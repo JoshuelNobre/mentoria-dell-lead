{
 "cells": [
  {
   "cell_type": "code",
   "execution_count": 4,
   "id": "62958a5e",
   "metadata": {},
   "outputs": [],
   "source": [
    "import os"
   ]
  },
  {
   "cell_type": "code",
   "execution_count": 5,
   "id": "3a9e5ef4",
   "metadata": {},
   "outputs": [],
   "source": [
    "# Definindo nosso decoradora\n",
    "def tem_git(funcao):\n",
    "    def escrava():\n",
    "        if os.path.isdir(\".git\"):\n",
    "            funcao()\n",
    "        else:\n",
    "            pass\n",
    "    return escrava()"
   ]
  },
  {
   "cell_type": "code",
   "execution_count": 6,
   "id": "196e86a7",
   "metadata": {},
   "outputs": [],
   "source": [
    "@tem_git\n",
    "def fala_se_tem():\n",
    "    print(\"Wheee!!\")"
   ]
  }
 ],
 "metadata": {
  "kernelspec": {
   "display_name": "Python 3",
   "language": "python",
   "name": "python3"
  },
  "language_info": {
   "codemirror_mode": {
    "name": "ipython",
    "version": 3
   },
   "file_extension": ".py",
   "mimetype": "text/x-python",
   "name": "python",
   "nbconvert_exporter": "python",
   "pygments_lexer": "ipython3",
   "version": "3.8.8"
  }
 },
 "nbformat": 4,
 "nbformat_minor": 5
}
